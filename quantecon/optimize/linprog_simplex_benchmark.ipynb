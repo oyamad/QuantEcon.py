{
 "cells": [
  {
   "cell_type": "markdown",
   "metadata": {},
   "source": [
    "## ベンチマーク用問題を解いてみる\n",
    "\n",
    "* Quentin's pull requestで挙げられていた問題群を解く\n",
    "    - https://github.com/QuantEcon/QuantEcon.py/pull/413\n",
    "\n",
    "* デフォルトでは，`quantecon/optimize/linprog_benchmark_files`に解きたいnpzファイルを格納して用いることになっている．\n",
    "    - 下記コード，コメントも参照されたし．\n",
    "    - 環境に応じて`path_to_benchmarks`を書き換える必要あり．"
   ]
  },
  {
   "cell_type": "code",
   "execution_count": 2,
   "metadata": {
    "ExecuteTime": {
     "end_time": "2019-04-07T06:24:32.582774Z",
     "start_time": "2019-04-07T06:24:32.579101Z"
    }
   },
   "outputs": [],
   "source": [
    "import numpy as np\n",
    "from scipy.optimize import linprog\n",
    "from quantecon.optimize import linprog_simplex\n",
    "from numba import jit\n",
    "import glob\n",
    "import math"
   ]
  },
  {
   "cell_type": "code",
   "execution_count": 13,
   "metadata": {
    "ExecuteTime": {
     "end_time": "2019-04-07T06:53:17.641575Z",
     "start_time": "2019-04-07T06:52:48.725614Z"
    }
   },
   "outputs": [
    {
     "name": "stdout",
     "output_type": "stream",
     "text": [
      "Problem ID : AFIRO.npz\n",
      "\n",
      "1.61 ms ± 6.15 µs per loop (mean ± std. dev. of 7 runs, 1000 loops each)\n",
      "10.6 ms ± 405 µs per loop (mean ± std. dev. of 7 runs, 100 loops each)\n",
      "8.79 ms ± 643 µs per loop (mean ± std. dev. of 7 runs, 100 loops each)\n",
      "Success? -- qe: True, scipy_simplex: True, scipy_interior: True\n",
      "Status? -- qe: 0, scipy_simplex: 0, scipy_interior: 0\n",
      "Value? -- qe: -464.7531428571428, scipy_simplex: -464.7531428571428, scipy_interior: -464.753142632583\n"
     ]
    }
   ],
   "source": [
    "# automated test\n",
    "## TOL_PIV = 1-10e\n",
    "\n",
    "## The path to the directory should be set appropriately\n",
    "### \"...(case by case)/quantecon/optimize/linprog_benchmark_files/\"\n",
    "path_to_benchmarks = \"/Users/kyo/prog/oyama_QuantEcon.py/quantecon/optimize/linprog_benchmark_files/*.npz\"\n",
    "\n",
    "## fetch test files\n",
    "tests_ = glob.glob(path_to_benchmarks)\n",
    "tests = []\n",
    "\n",
    "_ = len('/Users/kyo/prog/oyama_QuantEcon.py/quantecon/optimize/')\n",
    "for test in tests_:\n",
    "    tests.append(test[_:])\n",
    "    \n",
    "tests.sort()\n",
    "\n",
    "## main loop\n",
    "__ = len('linprog_benchmark_files/')\n",
    "for test in tests:\n",
    "    print('Problem ID : ' + test[__:] + '\\n')\n",
    "    linprog_test = np.load(test)\n",
    "\n",
    "    %timeit linprog_simplex(-linprog_test['c'], linprog_test['A_ub'], linprog_test['b_ub'], linprog_test['A_eq'], linprog_test['b_eq'])\n",
    "    %timeit linprog(linprog_test['c'], linprog_test['A_ub'], linprog_test['b_ub'], linprog_test['A_eq'], linprog_test['b_eq'], method='simplex')\n",
    "    %timeit linprog(linprog_test['c'], linprog_test['A_ub'], linprog_test['b_ub'], linprog_test['A_eq'], linprog_test['b_eq'], method='interior-point')\n",
    "\n",
    "    res_qe = linprog_simplex(-linprog_test['c'], linprog_test['A_ub'], linprog_test['b_ub'], linprog_test['A_eq'], linprog_test['b_eq'])\n",
    "    res_sp_simplex = linprog(linprog_test['c'], linprog_test['A_ub'], linprog_test['b_ub'], linprog_test['A_eq'], linprog_test['b_eq'], method='simplex')\n",
    "    res_sp_interior = linprog(linprog_test['c'], linprog_test['A_ub'], linprog_test['b_ub'], linprog_test['A_eq'], linprog_test['b_eq'], method='interior-point')\n",
    "\n",
    "    print('Success? -- qe: {}, scipy_simplex: {}, scipy_interior: {}'.format(res_qe.success, res_sp_simplex.success, res_sp_interior.success))\n",
    "    print('Status? -- qe: {}, scipy_simplex: {}, scipy_interior: {}'.format(res_qe.status, res_sp_simplex.status, res_sp_interior.status))\n",
    "    print('Value? -- qe: {}, scipy_simplex: {}, scipy_interior: {}'.format(-res_qe.fun, res_sp_simplex.fun, res_sp_interior.fun))\n",
    "    \n",
    "    ### optimality check\n",
    "    b = np.concatenate([linprog_test['b_ub'], linprog_test['b_eq']])\n",
    "    dual_val = np.dot(res_qe.lambd, b)\n",
    "    if math.isclose(res_qe.fun, dual_val):\n",
    "        print('\\n')\n",
    "    else:\n",
    "        print('CAUTION: Non-Optimal!!')\n",
    "        print('\\n')"
   ]
  },
  {
   "cell_type": "code",
   "execution_count": null,
   "metadata": {},
   "outputs": [],
   "source": []
  }
 ],
 "metadata": {
  "kernelspec": {
   "display_name": "Python 3",
   "language": "python",
   "name": "python3"
  },
  "language_info": {
   "codemirror_mode": {
    "name": "ipython",
    "version": 3
   },
   "file_extension": ".py",
   "mimetype": "text/x-python",
   "name": "python",
   "nbconvert_exporter": "python",
   "pygments_lexer": "ipython3",
   "version": "3.6.6"
  },
  "latex_envs": {
   "LaTeX_envs_menu_present": true,
   "autoclose": false,
   "autocomplete": true,
   "bibliofile": "biblio.bib",
   "cite_by": "apalike",
   "current_citInitial": 1,
   "eqLabelWithNumbers": true,
   "eqNumInitial": 1,
   "hotkeys": {
    "equation": "Ctrl-E",
    "itemize": "Ctrl-I"
   },
   "labels_anchors": false,
   "latex_user_defs": false,
   "report_style_numbering": false,
   "user_envs_cfg": false
  },
  "toc": {
   "base_numbering": 1,
   "nav_menu": {},
   "number_sections": true,
   "sideBar": true,
   "skip_h1_title": false,
   "title_cell": "Table of Contents",
   "title_sidebar": "Contents",
   "toc_cell": false,
   "toc_position": {},
   "toc_section_display": true,
   "toc_window_display": false
  }
 },
 "nbformat": 4,
 "nbformat_minor": 2
}
