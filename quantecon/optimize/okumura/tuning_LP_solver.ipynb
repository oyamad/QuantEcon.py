{
 "cells": [
  {
   "cell_type": "markdown",
   "metadata": {},
   "source": [
    "## Hyperparameter Tuning for the LP Solver"
   ]
  },
  {
   "cell_type": "markdown",
   "metadata": {},
   "source": [
    "### Summary"
   ]
  },
  {
   "cell_type": "code",
   "execution_count": 1,
   "metadata": {},
   "outputs": [
    {
     "name": "stdout",
     "output_type": "stream",
     "text": [
      "                    param problem       res.fun   desired_fun success?  status\n",
      "0   (1e-05, 1e-10, 1e-15)   AFIRO  4.647531e+02  4.647531e+02     True     0.0\n",
      "1   (1e-05, 1e-10, 1e-15)     AGG  3.629123e+07  3.599177e+07    False     0.0\n",
      "2   (1e-05, 1e-10, 1e-16)   AFIRO  4.647531e+02  4.647531e+02     True     0.0\n",
      "3   (1e-05, 1e-10, 1e-16)     AGG  3.629123e+07  3.599177e+07    False     0.0\n",
      "4   (1e-05, 1e-11, 1e-15)   AFIRO  4.647531e+02  4.647531e+02     True     0.0\n",
      "5   (1e-05, 1e-11, 1e-15)     AGG  1.041062e+07  3.599177e+07    False     0.0\n",
      "6   (1e-05, 1e-11, 1e-16)   AFIRO  4.647531e+02  4.647531e+02     True     0.0\n",
      "7   (1e-05, 1e-11, 1e-16)     AGG  1.041062e+07  3.599177e+07    False     0.0\n",
      "8   (1e-06, 1e-10, 1e-15)   AFIRO  4.647531e+02  4.647531e+02     True     0.0\n",
      "9   (1e-06, 1e-10, 1e-15)     AGG  3.629123e+07  3.599177e+07    False     0.0\n",
      "10  (1e-06, 1e-10, 1e-16)   AFIRO  4.647531e+02  4.647531e+02     True     0.0\n",
      "11  (1e-06, 1e-10, 1e-16)     AGG  3.629123e+07  3.599177e+07    False     0.0\n",
      "12  (1e-06, 1e-11, 1e-15)   AFIRO  4.647531e+02  4.647531e+02     True     0.0\n",
      "13  (1e-06, 1e-11, 1e-15)     AGG  1.041062e+07  3.599177e+07    False     0.0\n",
      "14  (1e-06, 1e-11, 1e-16)   AFIRO  4.647531e+02  4.647531e+02     True     0.0\n",
      "15  (1e-06, 1e-11, 1e-16)     AGG  1.041062e+07  3.599177e+07    False     0.0\n"
     ]
    },
    {
     "data": {
      "image/png": "[encoded data removed]",
      "text/plain": [
       "<Figure size 432x288 with 1 Axes>"
      ]
     },
     "metadata": {
      "needs_background": "light"
     },
     "output_type": "display_data"
    }
   ],
   "source": [
    "# import\n",
    "from quantecon.optimize import linprog_simplex\n",
    "#from quantecon.gridtools import cartesian\n",
    "\n",
    "import numpy as np\n",
    "import pandas as pd\n",
    "from matplotlib import pyplot as plt\n",
    "\n",
    "from collections import namedtuple\n",
    "from itertools import product\n",
    "import glob\n",
    "from multiprocessing import Pool, cpu_count\n",
    "\n",
    "import warnings\n",
    "warnings.filterwarnings('ignore')\n",
    "\n",
    "\n",
    "def main(param_problem_pair):\n",
    "    param = param_problem_pair[0]\n",
    "    problem_name = param_problem_pair[1]\n",
    "    problem = problem = np.load(problem_name)\n",
    "\n",
    "    piv_options = PivOptions(param[0], param[1], param[2])\n",
    "\n",
    "    problem = np.load(problem_name)\n",
    "    c = - problem['c']\n",
    "    A_eq = problem['A_eq']\n",
    "    A_ub = problem['A_ub']\n",
    "    b_eq = problem['b_eq']\n",
    "    b_ub = problem['b_ub']\n",
    "    desired_fun = problem['obj']\n",
    "    res = linprog_simplex(c, A_eq=A_eq, b_eq=b_eq, A_ub=A_ub, b_ub=b_ub,\n",
    "                          piv_options=piv_options)\n",
    "    problem_name = problem_name[len('./linprog_benchmark_files/'):-4]\n",
    "\n",
    "    result_dict = {'param': str(param), 'problem': problem_name,\n",
    "                   'res.fun': res.fun, 'desired_fun': -desired_fun,\n",
    "                   'success?': np.isclose(res.fun, -desired_fun),\n",
    "                   'status': res.status}\n",
    "    return result_dict\n",
    "\n",
    "\n",
    "if __name__ == '__main__':\n",
    "    # path\n",
    "    data_dir = './linprog_benchmark_files/'\n",
    "\n",
    "    # full_problem_list\n",
    "    problem_list = glob.glob(data_dir + '*.npz')\n",
    "    problem_list.sort()\n",
    "    remove_list = ['80BAU3B', 'BORE3D', 'CAPRI', 'CYCLE', 'CZPROB', 'D6CUBE',\n",
    "                   'DFL001', 'ETAMACRO', 'FINNIS', 'FIT1D', 'FIT1P', 'FIT2D',\n",
    "                   'FIT2P', 'GANGES', 'GFRD-PNC', 'GREENBEA', 'GREENBEB',\n",
    "                   'GROW15', 'GROW22', 'GROW7', 'KB2', 'MAROS', 'MODSZK1',\n",
    "                   'PEROLD', 'PILOT', 'PILOT-JA', 'PILOT-WE', 'PILOT4',\n",
    "                   'PILOT87', 'PILOTNOV', 'RECIPE', 'SHELL', 'SIERRA',\n",
    "                   'STAIR', 'STANDATA', 'STANDMPS', 'TUFF', 'VTP-BASE'\n",
    "                   ]\n",
    "    for name in remove_list:\n",
    "        problem_list.remove(data_dir + name + '.npz')\n",
    "\n",
    "    # Below, we work on a small problem set\n",
    "    PivOptions = namedtuple(\n",
    "        'PivOptions', ['fea_tol', 'tol_piv', 'tol_ratio_diff']\n",
    "    )\n",
    "\n",
    "    fea_tol_list = [1e-5, 1e-6]\n",
    "    tol_piv_list = [1e-10, 1e-11]\n",
    "    tol_ratio_diff_list = [1e-15, 1e-16]\n",
    "    param_set = product(fea_tol_list, tol_piv_list, tol_ratio_diff_list)\n",
    "\n",
    "    problem_list = ['./linprog_benchmark_files/AFIRO.npz',\n",
    "                    './linprog_benchmark_files/AGG.npz']\n",
    "\n",
    "    num_problem = len(problem_list)\n",
    "    num_param =\\\n",
    "        len(fea_tol_list) * len(tol_piv_list) * len(tol_ratio_diff_list)\n",
    "    num_row = num_problem * num_param\n",
    "    column_list =\\\n",
    "        ['param', 'problem', 'res.fun', 'desired_fun', 'success?', 'status']\n",
    "    num_column = len(column_list)\n",
    "    df = pd.DataFrame(np.zeros((num_row, num_column)))\n",
    "    df.columns = column_list\n",
    "    row_index = 0\n",
    "\n",
    "    param_problem_list = product(param_set, problem_list)\n",
    "\n",
    "    # parallelization\n",
    "    n_cores = cpu_count()\n",
    "    p = Pool(n_cores)\n",
    "    result_dicts = p.map(main, param_problem_list)\n",
    "\n",
    "    # convertion to pandas dataframe\n",
    "    for row_index, result_dict in enumerate(result_dicts):\n",
    "        df['param'][row_index] = result_dict['param']\n",
    "        df['problem'][row_index] = result_dict['problem']\n",
    "        df['res.fun'][row_index] = result_dict['res.fun']\n",
    "        df['desired_fun'][row_index] = result_dict['desired_fun']\n",
    "        df['success?'][row_index] = result_dict['success?']\n",
    "        df['status'][row_index] = result_dict['status']\n",
    "\n",
    "    print(df)\n",
    "    df.to_csv('results.csv')\n",
    "\n",
    "    # visualization\n",
    "    result_matrix = np.zeros((num_param, num_problem))\n",
    "\n",
    "    result_column = df['success?']\n",
    "    for i in range(num_param):\n",
    "        result_matrix[i] = result_column[i:i+num_problem]\n",
    "\n",
    "    plt.spy(result_matrix, markersize=3)\n",
    "    plt.savefig('result_table.png')\n",
    "    plt.show()"
   ]
  },
  {
   "cell_type": "markdown",
   "metadata": {},
   "source": [
    "I left the memo below:"
   ]
  },
  {
   "cell_type": "markdown",
   "metadata": {},
   "source": [
    "### An Example"
   ]
  },
  {
   "cell_type": "code",
   "execution_count": 43,
   "metadata": {},
   "outputs": [],
   "source": [
    "from quantecon.optimize import linprog_simplex\n",
    "#from quantecon.gridtools import cartesian\n",
    "\n",
    "import numpy as np\n",
    "import pandas as pd\n",
    "from matplotlib import pyplot as plt\n",
    "\n",
    "from collections import namedtuple\n",
    "from itertools import product\n",
    "import glob"
   ]
  },
  {
   "cell_type": "code",
   "execution_count": 3,
   "metadata": {},
   "outputs": [
    {
     "name": "stdout",
     "output_type": "stream",
     "text": [
      "True\n",
      "CPU times: user 951 ms, sys: 21.6 ms, total: 972 ms\n",
      "Wall time: 985 ms\n"
     ]
    }
   ],
   "source": [
    "%%time\n",
    "c = np.array([2, 4, 9, 11, 4, 3, 8, 7, 0, 15, 16, 18]) * (-1)\n",
    "n, p = -1, 1\n",
    "A_eq = [\n",
    "    [n, n, p, 0, p, 0, 0, 0, 0, p, 0, 0],\n",
    "    [p, 0, 0, p, 0, p, 0, 0, 0, 0, 0, 0],\n",
    "    [0, 0, n, n, 0, 0, 0, 0, 0, 0, 0, 0],\n",
    "    [0, 0, 0, 0, 0, 0, p, p, 0, 0, p, 0],\n",
    "    [0, 0, 0, 0, n, n, n, 0, p, 0, 0, 0],\n",
    "    [0, 0, 0, 0, 0, 0, 0, n, n, 0, 0, p],\n",
    "    [0, 0, 0, 0, 0, 0, 0, 0, 0, n, n, n]]\n",
    "b_eq = [0, 19, -16, 33, 0, 0, -36]\n",
    "c, A_eq, b_eq = map(np.asarray, [c, A_eq, b_eq])\n",
    "desired_fun = -755\n",
    "res = linprog_simplex(c, A_eq=A_eq, b_eq=b_eq)\n",
    "\n",
    "print(np.isclose(res.fun, desired_fun))"
   ]
  },
  {
   "cell_type": "markdown",
   "metadata": {},
   "source": [
    "### "
   ]
  },
  {
   "cell_type": "markdown",
   "metadata": {},
   "source": [
    "Although Quentin recommended that we use `quantecon.gridtools.cartesian`, `itertools.product` seems to work more intuitively to create a direct product of three lists."
   ]
  },
  {
   "cell_type": "code",
   "execution_count": 4,
   "metadata": {},
   "outputs": [],
   "source": [
    "PivOptions = namedtuple(\n",
    "    'PivOptions', ['fea_tol', 'tol_piv', 'tol_ratio_diff']\n",
    ")"
   ]
  },
  {
   "cell_type": "code",
   "execution_count": 5,
   "metadata": {},
   "outputs": [
    {
     "data": {
      "text/plain": [
       "[(1e-05, 1e-10, 1e-15),\n",
       " (1e-05, 1e-10, 1e-16),\n",
       " (1e-05, 1e-11, 1e-15),\n",
       " (1e-05, 1e-11, 1e-16),\n",
       " (1e-06, 1e-10, 1e-15),\n",
       " (1e-06, 1e-10, 1e-16),\n",
       " (1e-06, 1e-11, 1e-15),\n",
       " (1e-06, 1e-11, 1e-16)]"
      ]
     },
     "execution_count": 5,
     "metadata": {},
     "output_type": "execute_result"
    }
   ],
   "source": [
    "fea_tol_list = [1e-5, 1e-6]\n",
    "tol_piv_list = [1e-10, 1e-11]\n",
    "tol_ratio_diff_list = [1e-15, 1e-16]\n",
    "param_set = product(fea_tol_list, tol_piv_list, tol_ratio_diff_list)\n",
    "list(param_set)"
   ]
  },
  {
   "cell_type": "code",
   "execution_count": 6,
   "metadata": {},
   "outputs": [
    {
     "name": "stdout",
     "output_type": "stream",
     "text": [
      "(1e-05, 1e-10, 1e-15)\n",
      "True\n",
      "(1e-05, 1e-10, 1e-16)\n",
      "True\n",
      "(1e-05, 1e-11, 1e-15)\n",
      "True\n",
      "(1e-05, 1e-11, 1e-16)\n",
      "True\n",
      "(1e-06, 1e-10, 1e-15)\n",
      "True\n",
      "(1e-06, 1e-10, 1e-16)\n",
      "True\n",
      "(1e-06, 1e-11, 1e-15)\n",
      "True\n",
      "(1e-06, 1e-11, 1e-16)\n",
      "True\n",
      "CPU times: user 2.21 ms, sys: 1.01 ms, total: 3.23 ms\n",
      "Wall time: 2.27 ms\n"
     ]
    }
   ],
   "source": [
    "%%time\n",
    "PivOptions = namedtuple(\n",
    "    'PivOptions', ['fea_tol', 'tol_piv', 'tol_ratio_diff']\n",
    ")\n",
    "\n",
    "fea_tol_list = [1e-5, 1e-6]\n",
    "tol_piv_list = [1e-10, 1e-11]\n",
    "tol_ratio_diff_list = [1e-15, 1e-16]\n",
    "param_set = product(fea_tol_list, tol_piv_list, tol_ratio_diff_list)\n",
    "\n",
    "for param in param_set:\n",
    "    PivOptions.__new__.__defaults__ = param\n",
    "    c = np.array([2, 4, 9, 11, 4, 3, 8, 7, 0, 15, 16, 18]) * (-1)\n",
    "    A_eq = [\n",
    "        [n, n, p, 0, p, 0, 0, 0, 0, p, 0, 0],\n",
    "        [p, 0, 0, p, 0, p, 0, 0, 0, 0, 0, 0],\n",
    "        [0, 0, n, n, 0, 0, 0, 0, 0, 0, 0, 0],\n",
    "        [0, 0, 0, 0, 0, 0, p, p, 0, 0, p, 0],\n",
    "        [0, 0, 0, 0, n, n, n, 0, p, 0, 0, 0],\n",
    "        [0, 0, 0, 0, 0, 0, 0, n, n, 0, 0, p],\n",
    "        [0, 0, 0, 0, 0, 0, 0, 0, 0, n, n, n]]\n",
    "    b_eq = [0, 19, -16, 33, 0, 0, -36]\n",
    "    c, A_eq, b_eq = map(np.asarray, [c, A_eq, b_eq])\n",
    "    desired_fun = -755\n",
    "    res = linprog_simplex(c, A_eq=A_eq, b_eq=b_eq)\n",
    "    \n",
    "    print(param)\n",
    "    print(np.isclose(res.fun, desired_fun))"
   ]
  },
  {
   "cell_type": "markdown",
   "metadata": {},
   "source": [
    "### Solve Benchmark Problems"
   ]
  },
  {
   "cell_type": "markdown",
   "metadata": {},
   "source": [
    "* We use [The NETLIB Linear Programming test set](http://www.cuter.rl.ac.uk/Problems/netlib.shtml), which is also used in \n",
    "[scypy](https://github.com/scipy/scipy/tree/master/benchmarks/benchmarks/linprog_benchmark_files) implementation of LP solver.\n",
    "\n",
    "* NB: In scipy implementation, the problem is formulated as a minimization problem. Since our `linprog_simplex` is for a maximization, we should be careful when comparing the oprimal values."
   ]
  },
  {
   "cell_type": "code",
   "execution_count": 7,
   "metadata": {},
   "outputs": [],
   "source": [
    "data_dir = './linprog_benchmark_files/'"
   ]
  },
  {
   "cell_type": "code",
   "execution_count": 8,
   "metadata": {},
   "outputs": [],
   "source": [
    "problem = np.load(data_dir + 'ADLITTLE.npz')"
   ]
  },
  {
   "cell_type": "code",
   "execution_count": 9,
   "metadata": {},
   "outputs": [
    {
     "name": "stdout",
     "output_type": "stream",
     "text": [
      "['c', 'obj', 'A_ub', 'A_eq', 'bounds', 'b_ub', 'b_eq']\n"
     ]
    }
   ],
   "source": [
    "print(problem.files)"
   ]
  },
  {
   "cell_type": "code",
   "execution_count": 22,
   "metadata": {},
   "outputs": [],
   "source": [
    "PivOptions.__new__.__defaults__ = (1e-06, 1e-10, 1e-15)"
   ]
  },
  {
   "cell_type": "code",
   "execution_count": 38,
   "metadata": {},
   "outputs": [
    {
     "name": "stdout",
     "output_type": "stream",
     "text": [
      "True\n",
      "CPU times: user 5.09 ms, sys: 1.59 ms, total: 6.67 ms\n",
      "Wall time: 5.37 ms\n"
     ]
    }
   ],
   "source": [
    "%%time\n",
    "problem = np.load(data_dir + 'ADLITTLE.npz')\n",
    "c = - problem['c']\n",
    "A_eq = problem['A_eq']\n",
    "A_ub = problem['A_ub']\n",
    "b_eq = problem['b_eq']\n",
    "b_ub = problem['b_ub']\n",
    "#c, A_eq, b_eq = map(np.asarray, [c, A_eq, b_eq])\n",
    "desired_fun = problem['obj']\n",
    "res = linprog_simplex(c, A_eq=A_eq, b_eq=b_eq, A_ub=A_ub, b_ub=b_ub, piv_options=PivOptions())\n",
    "\n",
    "print(np.isclose(res.fun, -desired_fun))"
   ]
  },
  {
   "cell_type": "code",
   "execution_count": 41,
   "metadata": {},
   "outputs": [
    {
     "name": "stdout",
     "output_type": "stream",
     "text": [
      "True\n",
      "CPU times: user 4.66 ms, sys: 1.6 ms, total: 6.26 ms\n",
      "Wall time: 4.97 ms\n"
     ]
    }
   ],
   "source": [
    "%%time\n",
    "problem = np.load(data_dir + 'AFIRO.npz')\n",
    "c = - problem['c']\n",
    "A_eq = problem['A_eq']\n",
    "A_ub = problem['A_ub']\n",
    "b_eq = problem['b_eq']\n",
    "b_ub = problem['b_ub']\n",
    "#c, A_eq, b_eq = map(np.asarray, [c, A_eq, b_eq])\n",
    "desired_fun = problem['obj']\n",
    "res = linprog_simplex(c, A_eq=A_eq, b_eq=b_eq, A_ub=A_ub, b_ub=b_ub, piv_options=PivOptions())\n",
    "\n",
    "print(np.isclose(res.fun, -desired_fun))"
   ]
  },
  {
   "cell_type": "markdown",
   "metadata": {},
   "source": [
    "* Create the list of test problems. \n",
    "* As Quentin did before, we omit some problems.\n",
    "* The omitted problems are:\n",
    "  - B or BR problems\n",
    "  - QAP15, STOCFOR3 (too big to handle)"
   ]
  },
  {
   "cell_type": "code",
   "execution_count": 69,
   "metadata": {},
   "outputs": [],
   "source": [
    "problem_list = glob.glob(data_dir + '*.npz')\n",
    "problem_list.sort()\n",
    "remove_list = ['80BAU3B', 'BORE3D', 'CAPRI', 'CYCLE', 'CZPROB', 'D6CUBE', 'DFL001', 'ETAMACRO', 'FINNIS',\n",
    "               'FIT1D', 'FIT1P', 'FIT2D', 'FIT2P', 'GANGES', 'GFRD-PNC', 'GREENBEA', 'GREENBEB', 'GROW15', 'GROW22', 'GROW7',\n",
    "               'KB2', 'MAROS', 'MODSZK1', 'PEROLD', 'PILOT', 'PILOT-JA', 'PILOT-WE', 'PILOT4', 'PILOT87', 'PILOTNOV', 'RECIPE',\n",
    "               'SHELL', 'SIERRA', 'STAIR', 'STANDATA', 'STANDMPS', 'TUFF', 'VTP-BASE'\n",
    "              ]\n",
    "for name in remove_list:\n",
    "    #print(name)\n",
    "    problem_list.remove(data_dir + name + '.npz')\n",
    "#problem_list"
   ]
  },
  {
   "cell_type": "code",
   "execution_count": 28,
   "metadata": {},
   "outputs": [
    {
     "name": "stdout",
     "output_type": "stream",
     "text": [
      "CPU times: user 1.23 s, sys: 18.5 ms, total: 1.24 s\n",
      "Wall time: 1.26 s\n"
     ]
    },
    {
     "data": {
      "text/html": [
       "<div>\n",
       "<style scoped>\n",
       "    .dataframe tbody tr th:only-of-type {\n",
       "        vertical-align: middle;\n",
       "    }\n",
       "\n",
       "    .dataframe tbody tr th {\n",
       "        vertical-align: top;\n",
       "    }\n",
       "\n",
       "    .dataframe thead th {\n",
       "        text-align: right;\n",
       "    }\n",
       "</style>\n",
       "<table border=\"1\" class=\"dataframe\">\n",
       "  <thead>\n",
       "    <tr style=\"text-align: right;\">\n",
       "      <th></th>\n",
       "      <th>param</th>\n",
       "      <th>problem</th>\n",
       "      <th>res.fun</th>\n",
       "      <th>desired_fun</th>\n",
       "      <th>success?</th>\n",
       "      <th>status</th>\n",
       "    </tr>\n",
       "  </thead>\n",
       "  <tbody>\n",
       "    <tr>\n",
       "      <th>0</th>\n",
       "      <td>(1e-05, 1e-10, 1e-15)</td>\n",
       "      <td>AFIRO</td>\n",
       "      <td>4.647531e+02</td>\n",
       "      <td>4.647531e+02</td>\n",
       "      <td>True</td>\n",
       "      <td>0.0</td>\n",
       "    </tr>\n",
       "    <tr>\n",
       "      <th>1</th>\n",
       "      <td>(1e-05, 1e-10, 1e-15)</td>\n",
       "      <td>AGG</td>\n",
       "      <td>3.629123e+07</td>\n",
       "      <td>3.599177e+07</td>\n",
       "      <td>False</td>\n",
       "      <td>0.0</td>\n",
       "    </tr>\n",
       "    <tr>\n",
       "      <th>2</th>\n",
       "      <td>(1e-05, 1e-10, 1e-16)</td>\n",
       "      <td>AFIRO</td>\n",
       "      <td>4.647531e+02</td>\n",
       "      <td>4.647531e+02</td>\n",
       "      <td>True</td>\n",
       "      <td>0.0</td>\n",
       "    </tr>\n",
       "    <tr>\n",
       "      <th>3</th>\n",
       "      <td>(1e-05, 1e-10, 1e-16)</td>\n",
       "      <td>AGG</td>\n",
       "      <td>3.629123e+07</td>\n",
       "      <td>3.599177e+07</td>\n",
       "      <td>False</td>\n",
       "      <td>0.0</td>\n",
       "    </tr>\n",
       "    <tr>\n",
       "      <th>4</th>\n",
       "      <td>(1e-05, 1e-11, 1e-15)</td>\n",
       "      <td>AFIRO</td>\n",
       "      <td>4.647531e+02</td>\n",
       "      <td>4.647531e+02</td>\n",
       "      <td>True</td>\n",
       "      <td>0.0</td>\n",
       "    </tr>\n",
       "    <tr>\n",
       "      <th>5</th>\n",
       "      <td>(1e-05, 1e-11, 1e-15)</td>\n",
       "      <td>AGG</td>\n",
       "      <td>1.041062e+07</td>\n",
       "      <td>3.599177e+07</td>\n",
       "      <td>False</td>\n",
       "      <td>0.0</td>\n",
       "    </tr>\n",
       "    <tr>\n",
       "      <th>6</th>\n",
       "      <td>(1e-05, 1e-11, 1e-16)</td>\n",
       "      <td>AFIRO</td>\n",
       "      <td>4.647531e+02</td>\n",
       "      <td>4.647531e+02</td>\n",
       "      <td>True</td>\n",
       "      <td>0.0</td>\n",
       "    </tr>\n",
       "    <tr>\n",
       "      <th>7</th>\n",
       "      <td>(1e-05, 1e-11, 1e-16)</td>\n",
       "      <td>AGG</td>\n",
       "      <td>1.041062e+07</td>\n",
       "      <td>3.599177e+07</td>\n",
       "      <td>False</td>\n",
       "      <td>0.0</td>\n",
       "    </tr>\n",
       "    <tr>\n",
       "      <th>8</th>\n",
       "      <td>(1e-06, 1e-10, 1e-15)</td>\n",
       "      <td>AFIRO</td>\n",
       "      <td>4.647531e+02</td>\n",
       "      <td>4.647531e+02</td>\n",
       "      <td>True</td>\n",
       "      <td>0.0</td>\n",
       "    </tr>\n",
       "    <tr>\n",
       "      <th>9</th>\n",
       "      <td>(1e-06, 1e-10, 1e-15)</td>\n",
       "      <td>AGG</td>\n",
       "      <td>3.629123e+07</td>\n",
       "      <td>3.599177e+07</td>\n",
       "      <td>False</td>\n",
       "      <td>0.0</td>\n",
       "    </tr>\n",
       "    <tr>\n",
       "      <th>10</th>\n",
       "      <td>(1e-06, 1e-10, 1e-16)</td>\n",
       "      <td>AFIRO</td>\n",
       "      <td>4.647531e+02</td>\n",
       "      <td>4.647531e+02</td>\n",
       "      <td>True</td>\n",
       "      <td>0.0</td>\n",
       "    </tr>\n",
       "    <tr>\n",
       "      <th>11</th>\n",
       "      <td>(1e-06, 1e-10, 1e-16)</td>\n",
       "      <td>AGG</td>\n",
       "      <td>3.629123e+07</td>\n",
       "      <td>3.599177e+07</td>\n",
       "      <td>False</td>\n",
       "      <td>0.0</td>\n",
       "    </tr>\n",
       "    <tr>\n",
       "      <th>12</th>\n",
       "      <td>(1e-06, 1e-11, 1e-15)</td>\n",
       "      <td>AFIRO</td>\n",
       "      <td>4.647531e+02</td>\n",
       "      <td>4.647531e+02</td>\n",
       "      <td>True</td>\n",
       "      <td>0.0</td>\n",
       "    </tr>\n",
       "    <tr>\n",
       "      <th>13</th>\n",
       "      <td>(1e-06, 1e-11, 1e-15)</td>\n",
       "      <td>AGG</td>\n",
       "      <td>1.041062e+07</td>\n",
       "      <td>3.599177e+07</td>\n",
       "      <td>False</td>\n",
       "      <td>0.0</td>\n",
       "    </tr>\n",
       "    <tr>\n",
       "      <th>14</th>\n",
       "      <td>(1e-06, 1e-11, 1e-16)</td>\n",
       "      <td>AFIRO</td>\n",
       "      <td>4.647531e+02</td>\n",
       "      <td>4.647531e+02</td>\n",
       "      <td>True</td>\n",
       "      <td>0.0</td>\n",
       "    </tr>\n",
       "    <tr>\n",
       "      <th>15</th>\n",
       "      <td>(1e-06, 1e-11, 1e-16)</td>\n",
       "      <td>AGG</td>\n",
       "      <td>1.041062e+07</td>\n",
       "      <td>3.599177e+07</td>\n",
       "      <td>False</td>\n",
       "      <td>0.0</td>\n",
       "    </tr>\n",
       "  </tbody>\n",
       "</table>\n",
       "</div>"
      ],
      "text/plain": [
       "                    param problem       res.fun   desired_fun success?  status\n",
       "0   (1e-05, 1e-10, 1e-15)   AFIRO  4.647531e+02  4.647531e+02     True     0.0\n",
       "1   (1e-05, 1e-10, 1e-15)     AGG  3.629123e+07  3.599177e+07    False     0.0\n",
       "2   (1e-05, 1e-10, 1e-16)   AFIRO  4.647531e+02  4.647531e+02     True     0.0\n",
       "3   (1e-05, 1e-10, 1e-16)     AGG  3.629123e+07  3.599177e+07    False     0.0\n",
       "4   (1e-05, 1e-11, 1e-15)   AFIRO  4.647531e+02  4.647531e+02     True     0.0\n",
       "5   (1e-05, 1e-11, 1e-15)     AGG  1.041062e+07  3.599177e+07    False     0.0\n",
       "6   (1e-05, 1e-11, 1e-16)   AFIRO  4.647531e+02  4.647531e+02     True     0.0\n",
       "7   (1e-05, 1e-11, 1e-16)     AGG  1.041062e+07  3.599177e+07    False     0.0\n",
       "8   (1e-06, 1e-10, 1e-15)   AFIRO  4.647531e+02  4.647531e+02     True     0.0\n",
       "9   (1e-06, 1e-10, 1e-15)     AGG  3.629123e+07  3.599177e+07    False     0.0\n",
       "10  (1e-06, 1e-10, 1e-16)   AFIRO  4.647531e+02  4.647531e+02     True     0.0\n",
       "11  (1e-06, 1e-10, 1e-16)     AGG  3.629123e+07  3.599177e+07    False     0.0\n",
       "12  (1e-06, 1e-11, 1e-15)   AFIRO  4.647531e+02  4.647531e+02     True     0.0\n",
       "13  (1e-06, 1e-11, 1e-15)     AGG  1.041062e+07  3.599177e+07    False     0.0\n",
       "14  (1e-06, 1e-11, 1e-16)   AFIRO  4.647531e+02  4.647531e+02     True     0.0\n",
       "15  (1e-06, 1e-11, 1e-16)     AGG  1.041062e+07  3.599177e+07    False     0.0"
      ]
     },
     "execution_count": 28,
     "metadata": {},
     "output_type": "execute_result"
    }
   ],
   "source": [
    "%%time\n",
    "import warnings\n",
    "warnings.filterwarnings('ignore')\n",
    "\n",
    "PivOptions = namedtuple(\n",
    "    'PivOptions', ['fea_tol', 'tol_piv', 'tol_ratio_diff']\n",
    ")\n",
    "\n",
    "fea_tol_list = [1e-5, 1e-6]\n",
    "tol_piv_list = [1e-10, 1e-11]\n",
    "tol_ratio_diff_list = [1e-15, 1e-16]\n",
    "param_set = product(fea_tol_list, tol_piv_list, tol_ratio_diff_list)\n",
    "\n",
    "# problem_list = ['./linprog_benchmark_files/AFIRO.npz', './linprog_benchmark_files/AGG.npz', './linprog_benchmark_files/E226.npz',\n",
    "#                 './linprog_benchmark_files/FFFFF800.npz',\n",
    "#                 './linprog_benchmark_files/ISRAEL.npz', './linprog_benchmark_files/LOTFI.npz',\n",
    "#                 './linprog_benchmark_files/SHARE1B.npz', './linprog_benchmark_files/QAP8.npz'\n",
    "#                ]\n",
    "problem_list = ['./linprog_benchmark_files/AFIRO.npz', './linprog_benchmark_files/AGG.npz']\n",
    "\n",
    "num_problem = len(problem_list)\n",
    "num_param = len(fea_tol_list) * len(tol_piv_list) * len(tol_ratio_diff_list)\n",
    "num_row = num_problem * num_param\n",
    "column_list =  ['param', 'problem', 'res.fun', 'desired_fun', 'success?', 'status']\n",
    "num_column = len(column_list)\n",
    "df = pd.DataFrame(np.zeros((num_row, num_column)))\n",
    "df.columns = column_list\n",
    "row_index = 0\n",
    "\n",
    "for param in param_set:\n",
    "    PivOptions.__new__.__defaults__ = param\n",
    "    \n",
    "    for problem_name in problem_list:\n",
    "        problem = np.load(problem_name)\n",
    "        c = - problem['c']\n",
    "        A_eq = problem['A_eq']\n",
    "        A_ub = problem['A_ub']\n",
    "        b_eq = problem['b_eq']\n",
    "        b_ub = problem['b_ub']\n",
    "        desired_fun = problem['obj']\n",
    "        res = linprog_simplex(c, A_eq=A_eq, b_eq=b_eq, A_ub=A_ub, b_ub=b_ub, piv_options=PivOptions())\n",
    "        \n",
    "        df['param'][row_index] = str(param)\n",
    "        problem_name = problem_name[len('./linprog_benchmark_files/'):-4]\n",
    "        df['problem'][row_index] = problem_name\n",
    "        df['res.fun'][row_index] = res.fun\n",
    "        df['desired_fun'][row_index] = -desired_fun\n",
    "        df['success?'][row_index] = np.isclose(res.fun, -desired_fun)\n",
    "        df['status'][row_index] = res.status\n",
    "        \n",
    "        row_index += 1\n",
    "        \n",
    "df"
   ]
  },
  {
   "cell_type": "code",
   "execution_count": 17,
   "metadata": {},
   "outputs": [
    {
     "name": "stdout",
     "output_type": "stream",
     "text": [
      "4\n",
      "0\n"
     ]
    }
   ],
   "source": [
    "# iterator behavior\n",
    "prod = product([0,1], [0,1])\n",
    "print(len(list(prod)))\n",
    "print(len(list(prod)))"
   ]
  },
  {
   "cell_type": "code",
   "execution_count": 41,
   "metadata": {},
   "outputs": [
    {
     "data": {
      "text/plain": [
       "array([[0., 0.],\n",
       "       [0., 0.],\n",
       "       [0., 0.],\n",
       "       [0., 0.],\n",
       "       [0., 0.],\n",
       "       [0., 0.],\n",
       "       [0., 0.],\n",
       "       [0., 0.]])"
      ]
     },
     "execution_count": 41,
     "metadata": {},
     "output_type": "execute_result"
    }
   ],
   "source": [
    "result_matrix = np.zeros((num_param, num_problem))\n",
    "result_matrix"
   ]
  },
  {
   "cell_type": "code",
   "execution_count": 42,
   "metadata": {},
   "outputs": [
    {
     "data": {
      "text/plain": [
       "array([[1., 0.],\n",
       "       [0., 1.],\n",
       "       [1., 0.],\n",
       "       [0., 1.],\n",
       "       [1., 0.],\n",
       "       [0., 1.],\n",
       "       [1., 0.],\n",
       "       [0., 1.]])"
      ]
     },
     "execution_count": 42,
     "metadata": {},
     "output_type": "execute_result"
    }
   ],
   "source": [
    "result_column = df['success?']\n",
    "for i in range(num_param):\n",
    "    result_matrix[i] = result_column[i:i+num_problem]\n",
    "result_matrix"
   ]
  },
  {
   "cell_type": "code",
   "execution_count": 47,
   "metadata": {},
   "outputs": [
    {
     "data": {
      "image/png": "[encoded data removed]",
      "text/plain": [
       "<Figure size 432x288 with 1 Axes>"
      ]
     },
     "metadata": {
      "needs_background": "light"
     },
     "output_type": "display_data"
    }
   ],
   "source": [
    "plt.spy(result_matrix, markersize=3)\n",
    "plt.show()"
   ]
  },
  {
   "cell_type": "markdown",
   "metadata": {},
   "source": [
    "### Parallelization"
   ]
  },
  {
   "cell_type": "code",
   "execution_count": 3,
   "metadata": {},
   "outputs": [
    {
     "name": "stdout",
     "output_type": "stream",
     "text": [
      "                    param problem       res.fun   desired_fun success?  status\n",
      "0   (1e-05, 1e-10, 1e-15)   AFIRO  4.647531e+02  4.647531e+02     True     0.0\n",
      "1   (1e-05, 1e-10, 1e-15)     AGG  3.629123e+07  3.599177e+07    False     0.0\n",
      "2   (1e-05, 1e-10, 1e-16)   AFIRO  4.647531e+02  4.647531e+02     True     0.0\n",
      "3   (1e-05, 1e-10, 1e-16)     AGG  3.629123e+07  3.599177e+07    False     0.0\n",
      "4   (1e-05, 1e-11, 1e-15)   AFIRO  4.647531e+02  4.647531e+02     True     0.0\n",
      "5   (1e-05, 1e-11, 1e-15)     AGG  1.041062e+07  3.599177e+07    False     0.0\n",
      "6   (1e-05, 1e-11, 1e-16)   AFIRO  4.647531e+02  4.647531e+02     True     0.0\n",
      "7   (1e-05, 1e-11, 1e-16)     AGG  1.041062e+07  3.599177e+07    False     0.0\n",
      "8   (1e-06, 1e-10, 1e-15)   AFIRO  4.647531e+02  4.647531e+02     True     0.0\n",
      "9   (1e-06, 1e-10, 1e-15)     AGG  3.629123e+07  3.599177e+07    False     0.0\n",
      "10  (1e-06, 1e-10, 1e-16)   AFIRO  4.647531e+02  4.647531e+02     True     0.0\n",
      "11  (1e-06, 1e-10, 1e-16)     AGG  3.629123e+07  3.599177e+07    False     0.0\n",
      "12  (1e-06, 1e-11, 1e-15)   AFIRO  4.647531e+02  4.647531e+02     True     0.0\n",
      "13  (1e-06, 1e-11, 1e-15)     AGG  1.041062e+07  3.599177e+07    False     0.0\n",
      "14  (1e-06, 1e-11, 1e-16)   AFIRO  4.647531e+02  4.647531e+02     True     0.0\n",
      "15  (1e-06, 1e-11, 1e-16)     AGG  1.041062e+07  3.599177e+07    False     0.0\n"
     ]
    },
    {
     "data": {
      "image/png": "[encoded data removed]",
      "text/plain": [
       "<Figure size 432x288 with 1 Axes>"
      ]
     },
     "metadata": {
      "needs_background": "light"
     },
     "output_type": "display_data"
    }
   ],
   "source": [
    "# import\n",
    "from quantecon.optimize import linprog_simplex\n",
    "#from quantecon.gridtools import cartesian\n",
    "\n",
    "import numpy as np\n",
    "import pandas as pd\n",
    "from matplotlib import pyplot as plt\n",
    "\n",
    "from collections import namedtuple\n",
    "from itertools import product\n",
    "import glob\n",
    "from multiprocessing import Pool, cpu_count\n",
    "\n",
    "import warnings\n",
    "warnings.filterwarnings('ignore')\n",
    "\n",
    "\n",
    "def main(param_problem_pair):\n",
    "    param = param_problem_pair[0]\n",
    "    problem_name = param_problem_pair[1]\n",
    "    problem = problem = np.load(problem_name)\n",
    "    \n",
    "    piv_options = PivOptions(param[0], param[1], param[2])\n",
    "\n",
    "    problem = np.load(problem_name)\n",
    "    c = - problem['c']\n",
    "    A_eq = problem['A_eq']\n",
    "    A_ub = problem['A_ub']\n",
    "    b_eq = problem['b_eq']\n",
    "    b_ub = problem['b_ub']\n",
    "    desired_fun = problem['obj']\n",
    "    res = linprog_simplex(c, A_eq=A_eq, b_eq=b_eq, A_ub=A_ub, b_ub=b_ub,\n",
    "                          piv_options=piv_options)\n",
    "    problem_name = problem_name[len('./linprog_benchmark_files/'):-4]\n",
    "\n",
    "    result_dict = {'param':str(param), 'problem':problem_name,\n",
    "                   'res.fun':res.fun, 'desired_fun':-desired_fun,\n",
    "                   'success?':np.isclose(res.fun, -desired_fun),\n",
    "                   'status':res.status}\n",
    "    return result_dict\n",
    "\n",
    "\n",
    "if __name__ == '__main__':\n",
    "    # path\n",
    "    data_dir = './linprog_benchmark_files/'\n",
    "\n",
    "    # full_problem_list\n",
    "    problem_list = glob.glob(data_dir + '*.npz')\n",
    "    problem_list.sort()\n",
    "    remove_list = ['80BAU3B', 'BORE3D', 'CAPRI', 'CYCLE', 'CZPROB', 'D6CUBE',\n",
    "                   'DFL001', 'ETAMACRO', 'FINNIS', 'FIT1D', 'FIT1P', 'FIT2D',\n",
    "                   'FIT2P', 'GANGES', 'GFRD-PNC', 'GREENBEA', 'GREENBEB',\n",
    "                   'GROW15', 'GROW22', 'GROW7', 'KB2', 'MAROS', 'MODSZK1',\n",
    "                   'PEROLD', 'PILOT', 'PILOT-JA', 'PILOT-WE', 'PILOT4',\n",
    "                   'PILOT87', 'PILOTNOV', 'RECIPE', 'SHELL', 'SIERRA',\n",
    "                   'STAIR', 'STANDATA', 'STANDMPS', 'TUFF', 'VTP-BASE'\n",
    "                  ]\n",
    "    for name in remove_list:\n",
    "        problem_list.remove(data_dir + name + '.npz')\n",
    "\n",
    "\n",
    "    # Below, we work on a small problem set\n",
    "    PivOptions = namedtuple(\n",
    "        'PivOptions', ['fea_tol', 'tol_piv', 'tol_ratio_diff']\n",
    "    )\n",
    "\n",
    "    fea_tol_list = [1e-5, 1e-6]\n",
    "    tol_piv_list = [1e-10, 1e-11]\n",
    "    tol_ratio_diff_list = [1e-15, 1e-16]\n",
    "    param_set = product(fea_tol_list, tol_piv_list, tol_ratio_diff_list)\n",
    "\n",
    "    # problem_list = ['./linprog_benchmark_files/AFIRO.npz', './linprog_benchmark_files/AGG.npz', './linprog_benchmark_files/E226.npz',\n",
    "    #                 './linprog_benchmark_files/FFFFF800.npz',\n",
    "    #                 './linprog_benchmark_files/ISRAEL.npz', './linprog_benchmark_files/LOTFI.npz',\n",
    "    #                 './linprog_benchmark_files/SHARE1B.npz', './linprog_benchmark_files/QAP8.npz'\n",
    "    #                ]\n",
    "    problem_list = ['./linprog_benchmark_files/AFIRO.npz',\n",
    "                    './linprog_benchmark_files/AGG.npz']\n",
    "\n",
    "    num_problem = len(problem_list)\n",
    "    num_param =\\\n",
    "        len(fea_tol_list) * len(tol_piv_list) * len(tol_ratio_diff_list)\n",
    "    num_row = num_problem * num_param\n",
    "    column_list =\\\n",
    "        ['param', 'problem', 'res.fun', 'desired_fun', 'success?', 'status']\n",
    "    num_column = len(column_list)\n",
    "    df = pd.DataFrame(np.zeros((num_row, num_column)))\n",
    "    df.columns = column_list\n",
    "    row_index = 0\n",
    "\n",
    "    param_problem_list = product(param_set, problem_list)\n",
    "\n",
    "    # parallelization\n",
    "    n_cores = cpu_count()\n",
    "    p = Pool(n_cores)\n",
    "    result_dicts = p.map(main, param_problem_list)\n",
    "\n",
    "    # convertion to pandas dataframe\n",
    "    for row_index, result_dict in enumerate(result_dicts):\n",
    "        df['param'][row_index] = result_dict['param']\n",
    "        df['problem'][row_index] = result_dict['problem']\n",
    "        df['res.fun'][row_index] = result_dict['res.fun']\n",
    "        df['desired_fun'][row_index] = result_dict['desired_fun']\n",
    "        df['success?'][row_index] = result_dict['success?']\n",
    "        df['status'][row_index] = result_dict['status']\n",
    "\n",
    "    print(df)\n",
    "    df.to_csv('results.csv')\n",
    "\n",
    "    # visualization\n",
    "    result_matrix = np.zeros((num_param, num_problem))\n",
    "\n",
    "    result_column = df['success?']\n",
    "    for i in range(num_param):\n",
    "        result_matrix[i] = result_column[i:i+num_problem]\n",
    "\n",
    "    plt.spy(result_matrix, markersize=3)\n",
    "    plt.savefig('result_table.png')\n",
    "    plt.show()"
   ]
  },
  {
   "cell_type": "code",
   "execution_count": null,
   "metadata": {},
   "outputs": [],
   "source": []
  }
 ],
 "metadata": {
  "kernelspec": {
   "display_name": "Python 3",
   "language": "python",
   "name": "python3"
  },
  "language_info": {
   "codemirror_mode": {
    "name": "ipython",
    "version": 3
   },
   "file_extension": ".py",
   "mimetype": "text/x-python",
   "name": "python",
   "nbconvert_exporter": "python",
   "pygments_lexer": "ipython3",
   "version": "3.7.5"
  }
 },
 "nbformat": 4,
 "nbformat_minor": 4
}
